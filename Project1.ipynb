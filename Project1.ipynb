{
  "nbformat": 4,
  "nbformat_minor": 0,
  "metadata": {
    "colab": {
      "provenance": []
    },
    "kernelspec": {
      "name": "python3",
      "display_name": "Python 3"
    },
    "language_info": {
      "name": "python"
    }
  },
  "cells": [
    {
      "cell_type": "markdown",
      "source": [
        "**Project Description:**\n",
        "Predict if a customer is happy or not based on the answers they give to questions asked.\n",
        "\n",
        "A customer's happiness is recorded in the 'Y' column of the ACME-HappinessSurvey2020.csv file. X values X1 to X6 record the answers to each question in the survey by the customers. Hence these X values are the features we will use to predict whether the custome is happy or not.\n",
        "\n",
        "Below is the prediction model created for this purpose."
      ],
      "metadata": {
        "id": "wauIU0TXeJCw"
      }
    },
    {
      "cell_type": "code",
      "source": [
        "import pandas as pd\n",
        "import numpy as np\n",
        "import matplotlib.pyplot as plt\n",
        "from sklearn import model_selection\n",
        "from sklearn.model_selection import train_test_split\n",
        "from sklearn.neural_network import MLPClassifier\n",
        "from sklearn import metrics\n",
        "\n",
        "df = pd.read_csv('ACME-HappinessSurvey2020.csv')\n",
        "\n",
        "# split data into x and y\n",
        "y = df.iloc[:,0]\n",
        "x = df.iloc[:,1:7]\n",
        "\n",
        "# split into train and test\n",
        "X_train,X_test,y_train,y_test=train_test_split(x,y,test_size=0.4,random_state=100)\n",
        "\n",
        "# generate the model\n",
        "model = MLPClassifier(solver='adam', alpha=1e-5,\n",
        "                     hidden_layer_sizes=(8), random_state=3)\n",
        "# train\n",
        "model.fit(x,y)\n",
        "\n",
        "# predict\n",
        "y_pred=model.predict(X_test)\n",
        "\n",
        "# evaluate performance\n",
        "print(\"Accuracy: \",metrics.accuracy_score(y_test, y_pred))"
      ],
      "metadata": {
        "colab": {
          "base_uri": "https://localhost:8080/"
        },
        "id": "IoTruiYZ18-o",
        "outputId": "d8f4130f-16e7-4795-9c3f-27dce138c9ae"
      },
      "execution_count": 1,
      "outputs": [
        {
          "output_type": "stream",
          "name": "stdout",
          "text": [
            "Accuracy:  0.7450980392156863\n"
          ]
        }
      ]
    },
    {
      "cell_type": "markdown",
      "source": [
        "From the data we have taken the first column 'Y' as the y data that we are going to create a model to predict. The 'x' data that we will use to predict the y value consists of xolumns X1 to X6.\n",
        "\n",
        "Then we split the data with train_test_split to define which rows we are going to use to train the model and which rows we are going to use to test the trained model on. The test size of '0.4' indicates that we are going to be testing with 40% of the original dataset. Therefore the training data consists of 60% of the original dataset.\n",
        "\n",
        "Then we create a an MLPClaissifier neural network model using the solver 'adam' and a hidden layer size of 8. After training the model and predicting on the test dataset, a prediction accuracy of 74.5% is achieved."
      ],
      "metadata": {
        "id": "Z5p8N8vf1sK7"
      }
    },
    {
      "cell_type": "code",
      "source": [
        "from sklearn.model_selection import cross_val_score\n",
        "\n",
        "# Perform K-fold cross-validation with 5 folds\n",
        "num_folds = 5\n",
        "scores = cross_val_score(model, x, y, cv=num_folds)\n",
        "\n",
        "# Print the cross-validation scores\n",
        "print(\"Cross-Validation Scores:\", scores)\n",
        "\n",
        "# Calculate and print the mean accuracy\n",
        "mean_accuracy = np.mean(scores)\n",
        "print(\"Mean Accuracy:\", mean_accuracy)"
      ],
      "metadata": {
        "colab": {
          "base_uri": "https://localhost:8080/"
        },
        "id": "X3oiMx8L3Wxz",
        "outputId": "67c90863-6992-4492-c101-9604af4224c5"
      },
      "execution_count": null,
      "outputs": [
        {
          "output_type": "stream",
          "name": "stdout",
          "text": [
            "Cross-Validation Scores: [0.61538462 0.6        0.72       0.64       0.52      ]\n",
            "Mean Accuracy: 0.6190769230769231\n"
          ]
        }
      ]
    },
    {
      "cell_type": "markdown",
      "source": [
        "Since our dataset is rather small and splitting such a small dataset can result in potentially unreliable and inconsistent results, we will use K-Fold Cross Validation in an attempt to get a more reliable accuracy score based on the dataset. This ensures that the randomly chosen training and testing data does not so easily skew the results since in K-Fold Cross Validation the data is split K times such that in one split we are able to test on one set of data and in another split we are able to train on that same data.\n",
        "\n",
        "From the cross validation scores we can see a mean accuracy of about 62%. This has dropped from the previous accuracy score since the first split happened to test on a split of data that performed well, while this displays a more accurate result of training with such a small dataset with not many direct correlations between x and y to be found.\n",
        "\n",
        "**Conclusion:**\n",
        "The model can perform well but only when tested against selected parts of the dataset. This is because the dataset is not sufficiently large enough to perform either adequate training or adequate testing. With a larger dataset the model could be further trained to find deeper correlations in the data and testing could retrieve more reliable results that are more indicative of the model's performance with future data."
      ],
      "metadata": {
        "id": "5pniZP6o_TXC"
      }
    }
  ]
}